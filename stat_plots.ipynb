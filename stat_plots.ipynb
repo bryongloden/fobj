{
 "cells": [
  {
   "cell_type": "code",
   "execution_count": 1,
   "metadata": {
    "collapsed": false
   },
   "outputs": [],
   "source": [
    "%matplotlib inline\n",
    "import pylab as plt\n",
    "import cPickle\n",
    "import numpy as np\n",
    "import glob\n",
    "import niche_transform\n",
    "reload(niche_transform)\n",
    "\n",
    "from niche_transform import transform,transform2\n",
    "\n",
    "f1 = glob.glob(\"../Downloads/f0/*.pkl\")\n",
    "f2 = glob.glob(\"../Downloads/f1/*.pkl\")\n",
    "f3 = glob.glob(\"../Downloads/f2/*.pkl\")\n",
    "\n",
    "#files = glob.glob(\"fool10-0.pkl\")\n"
   ]
  },
  {
   "cell_type": "code",
   "execution_count": 2,
   "metadata": {
    "collapsed": false
   },
   "outputs": [
    {
     "name": "stdout",
     "output_type": "stream",
     "text": [
      "10 10 10\n"
     ]
    }
   ],
   "source": [
    "print len(f1),len(f2),len(f3)"
   ]
  },
  {
   "cell_type": "code",
   "execution_count": 3,
   "metadata": {
    "collapsed": false
   },
   "outputs": [
    {
     "name": "stdout",
     "output_type": "stream",
     "text": [
      "(1000,)\n",
      "0.0433592387935 249999\n",
      "(1000,)\n",
      "0.0446526101785 249999\n",
      "(1000,)\n",
      "0.0374755111721 249999\n",
      "(1000,)\n",
      "0.0435453000139 249999\n",
      "(1000,)\n",
      "0.0360829345269 249999\n",
      "(1000,)\n",
      "0.0495791196066 249999\n",
      "(1000,)\n",
      "0.0366248907905 249999\n",
      "(1000,)\n",
      "0.046091294202 249999\n",
      "(1000,)\n",
      "0.0517402993749 249999\n",
      "(1000,)\n",
      "0.0378611727265 249999\n",
      "transform\n",
      "(1000,)\n",
      "0.0483678508191 249999\n",
      "transform\n",
      "(1000,)\n",
      "0.0642196624211 249999\n",
      "transform\n",
      "(1000,)\n",
      "0.0523998891905 249999\n",
      "transform\n",
      "(1000,)\n",
      "0.0512617744541 249999\n",
      "transform\n",
      "(1000,)\n",
      "0.0504125201403 249999\n",
      "transform\n",
      "(1000,)\n",
      "0.0536463076679 249999\n",
      "transform\n",
      "(1000,)\n",
      "0.0644317187318 249999\n",
      "transform\n",
      "(1000,)\n",
      "0.0576407537835 249999\n",
      "transform\n",
      "(1000,)\n",
      "0.0524232982412 249999\n",
      "transform\n",
      "(1000,)\n",
      "0.0565799266623 249999\n",
      "(1000,)\n",
      "0.0344176887275 249999\n",
      "(1000,)\n",
      "0.0288252932205 249999\n",
      "(1000,)\n",
      "0.0289935430595 249999\n",
      "(1000,)\n",
      "0.0413714290884 249999\n",
      "(1000,)\n",
      "0.0260978772501 249999\n",
      "(1000,)\n",
      "0.0273326445135 249999\n",
      "(1000,)\n",
      "0.0337274500256 249999\n",
      "(1000,)\n",
      "0.0311953408544 249999\n",
      "(1000,)\n",
      "0.0282008035822 249999\n",
      "(1000,)\n",
      "0.0373285910466 249999\n"
     ]
    }
   ],
   "source": [
    "def read_results(files):\n",
    " results=[]\n",
    " avg=[]\n",
    " for f in files:\n",
    "    elite_score,elite_map,evals,history,elite_extra,plots = cPickle.load(open(f))\n",
    "    if elite_score.shape[0]>1000:\n",
    "      print \"transform\"\n",
    "      elite_score = transform(elite_score)\n",
    "    result={'es':elite_score,'em':elite_map,'evals':evals,'history':history,'ee':elite_extra,'plots':plots}\n",
    "    \n",
    "    print elite_score.shape\n",
    "    print elite_score.mean(),evals\n",
    "    results.append(result)\n",
    " return results\n",
    "\n",
    "r0 = read_results(glob.glob(\"../Downloads/f0/*.pkl\"))\n",
    "r1 = read_results(glob.glob(\"../Downloads/f1/*.pkl\"))\n",
    "r2 = read_results(glob.glob(\"../Downloads/f2/*.pkl\"))"
   ]
  },
  {
   "cell_type": "code",
   "execution_count": 23,
   "metadata": {
    "collapsed": false
   },
   "outputs": [
    {
     "name": "stdout",
     "output_type": "stream",
     "text": [
      "0.000716696903015\n",
      "0.0158764300302\n",
      "8.07449965255e-07\n"
     ]
    }
   ],
   "source": [
    "avg_func = lambda x:np.mean(x,1)\n",
    "\n",
    "\"\"\"\n",
    "def mult(x):\n",
    "    return reduce(lambda x,y:x*y,x)\n",
    "\n",
    "avg_func = mult\n",
    "\"\"\"\n",
    "\n",
    "def create_series(plots):\n",
    " y=[]\n",
    " for plot in plots:\n",
    "    if plot.shape[0]>1000:\n",
    "        plot=transform2(plot)\n",
    "    y.append(avg_func(plot).mean())\n",
    " return y\n",
    "\n",
    "def create_concat_series(res):\n",
    " y=[]\n",
    "\n",
    " for r in res:\n",
    "    y.append(create_series(r))\n",
    "\n",
    " y = [s for s in y if len(s)>=25]\n",
    " \n",
    " return np.array(y)\n",
    "\n",
    "plots1 = [r['plots'] for r in r0]\n",
    "plots2 = [r['plots'] for r in r1]\n",
    "plots3 = [r['plots'] for r in r2]\n",
    "\n",
    "\n",
    "series1,series2,series3 = [create_concat_series(p) for p in [plots1,plots2,plots3]]\n",
    "    \n",
    "end_dist1 = series1[:,-1]\n",
    "end_dist2 = series2[:,-1]\n",
    "end_dist3 = series3[:,-1]\n",
    "\n",
    "import scipy.stats\n",
    "\n",
    "correction = 3\n",
    "#print scipy.stats.ttest_ind(end_dist1,end_dist2)\n",
    "print scipy.stats.ttest_ind(end_dist1,end_dist2)[1]*correction\n",
    "print scipy.stats.ttest_ind(end_dist1,end_dist3)[1]*correction\n",
    "print scipy.stats.ttest_ind(end_dist2,end_dist3)[1]*correction\n",
    "\n",
    "\n"
   ]
  },
  {
   "cell_type": "code",
   "execution_count": 25,
   "metadata": {
    "collapsed": false
   },
   "outputs": [
    {
     "data": {
      "text/plain": [
       "<matplotlib.legend.Legend at 0x7f9486234990>"
      ]
     },
     "execution_count": 25,
     "metadata": {},
     "output_type": "execute_result"
    },
    {
     "data": {
      "image/png": "[encoded data removed]",
      "text/plain": [
       "<matplotlib.figure.Figure at 0x7f94864de110>"
      ]
     },
     "metadata": {},
     "output_type": "display_data"
    },
    {
     "data": {
      "image/png": "[encoded data removed]",
      "text/plain": [
       "<matplotlib.figure.Figure at 0x7f94864de150>"
      ]
     },
     "metadata": {},
     "output_type": "display_data"
    },
    {
     "data": {
      "image/png": "[encoded data removed]",
      "text/plain": [
       "<matplotlib.figure.Figure at 0x7f948653c910>"
      ]
     },
     "metadata": {},
     "output_type": "display_data"
    },
    {
     "data": {
      "image/png": "[encoded data removed]",
      "text/plain": [
       "<matplotlib.figure.Figure at 0x7f948644aa50>"
      ]
     },
     "metadata": {},
     "output_type": "display_data"
    },
    {
     "data": {
      "image/png": "[encoded data removed]",
      "text/plain": [
       "<matplotlib.figure.Figure at 0x7f9486324d10>"
      ]
     },
     "metadata": {},
     "output_type": "display_data"
    }
   ],
   "source": [
    "plt.matshow(series1)\n",
    "plt.matshow(series2)\n",
    "plt.matshow(series3)\n",
    "\n",
    "import math\n",
    "cor = math.sqrt(10)\n",
    "\n",
    "series1_std = series1.std(axis=0) / cor\n",
    "series2_std = series2.std(axis=0) / cor\n",
    "series3_std = series3.std(axis=0) / cor\n",
    "\n",
    "series1 = series1.mean(axis=0)\n",
    "series2 = series2.mean(axis=0)\n",
    "series3 = series3.mean(axis=0)\n",
    "\n",
    "\n",
    "plt.figure()\n",
    "\n",
    "plt.plot(series1,label='s1')\n",
    "plt.plot(series2,label='s2')\n",
    "plt.plot(series3,label='s3')\n",
    "plt.legend()\n",
    "\n",
    "plt.figure()\n",
    "plt.plot(series1_std,label='s1')\n",
    "plt.plot(series2_std,label='s2')\n",
    "plt.plot(series3_std,label='s3')\n",
    "plt.legend()"
   ]
  },
  {
   "cell_type": "code",
   "execution_count": 10,
   "metadata": {
    "collapsed": false
   },
   "outputs": [
    {
     "name": "stdout",
     "output_type": "stream",
     "text": [
      "(10,)\n"
     ]
    }
   ],
   "source": [
    "print series1.shape"
   ]
  },
  {
   "cell_type": "code",
   "execution_count": 26,
   "metadata": {
    "collapsed": true
   },
   "outputs": [],
   "source": [
    "import csv\n",
    "with open('prelim_exp.csv', 'wb') as csvfile:\n",
    "    spamwriter = csv.writer(csvfile, delimiter=' ',\n",
    "                            quotechar='\"', quoting=csv.QUOTE_MINIMAL)\n",
    "    for r in range(len(series1)):\n",
    "     s1x = s2x = s3x = (r+1)*10000.0\n",
    "     s1y = series1[r]\n",
    "     s2y = series2[r]\n",
    "     s3y = series3[r]\n",
    "     s1e = series1_std[r]\n",
    "     s2e = series2_std[r]\n",
    "     s3e = series3_std[r]\n",
    "\n",
    "     spamwriter.writerow([s1x,s1y,s1e,s2x,s2y,s2e,s3x,s3y,s3e])\n",
    "   "
   ]
  },
  {
   "cell_type": "code",
   "execution_count": null,
   "metadata": {
    "collapsed": true
   },
   "outputs": [],
   "source": []
  }
 ],
 "metadata": {
  "kernelspec": {
   "display_name": "Python 2",
   "language": "python",
   "name": "python2"
  },
  "language_info": {
   "codemirror_mode": {
    "name": "ipython",
    "version": 2
   },
   "file_extension": ".py",
   "mimetype": "text/x-python",
   "name": "python",
   "nbconvert_exporter": "python",
   "pygments_lexer": "ipython2",
   "version": "2.7.9"
  }
 },
 "nbformat": 4,
 "nbformat_minor": 0
}
